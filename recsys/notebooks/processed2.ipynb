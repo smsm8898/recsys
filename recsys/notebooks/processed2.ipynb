{
 "cells": [
  {
   "cell_type": "code",
   "execution_count": 1,
   "id": "67655f94-40e5-47d1-92db-42a83824639d",
   "metadata": {},
   "outputs": [],
   "source": [
    "import numpy as np\n",
    "import pandas as pd\n",
    "import json\n",
    "from tqdm import tqdm\n",
    "\n",
    "np.random.seed = 42"
   ]
  },
  {
   "cell_type": "code",
   "execution_count": 2,
   "id": "de0181b6-a07e-4096-8a07-314a92f491d9",
   "metadata": {},
   "outputs": [],
   "source": [
    "genre_list = [\n",
    "    \"unknown\",\n",
    "    \"action\",\n",
    "    \"adventure\",\n",
    "    \"animation\",\n",
    "    \"children\",\n",
    "    \"comedy\",\n",
    "    \"crime\",\n",
    "    \"documentary\", \n",
    "    \"drama\", \n",
    "    \"fantasy\",\n",
    "    \"film-noir\",\n",
    "    \"horror\",\n",
    "    \"musical\",\n",
    "    \"mystery\",\n",
    "    \"romance\",\n",
    "    \"sci-Fi\",\n",
    "    \"thriller\",\n",
    "    \"war\",\n",
    "    \"western\",\n",
    "]\n",
    "ratings = pd.read_csv(\"movielens/raw/u.data\", sep=\"\\t\", names=[\"user_id\", \"item_id\", \"rating\", \"timestamp\"])\n",
    "users = pd.read_csv(\"movielens/raw/u.user\", sep=\"|\", encoding=\"latin-1\", names=[\"user_id\", \"age\", \"gender\", \"occupation\", \"zip\"])\n",
    "items = pd.read_csv(\"movielens/raw/u.item\", sep=\"|\", encoding=\"latin-1\", names=[\n",
    "        \"item_id\",\n",
    "        \"title\",\n",
    "        \"release_date\",\n",
    "        \"video_release_date\",\n",
    "        \"imdb_url\"] + genre_list\n",
    ")\n",
    "num_sparse_features = {\n",
    "    \"user_id\": users[\"user_id\"].nunique(),\n",
    "    \"item_id\": items[\"item_id\"].nunique(),\n",
    "    \"gender\": users[\"gender\"].nunique(),\n",
    "    \"occupation\": users[\"occupation\"].nunique(),\n",
    "    \"genre\": len(genre_list),\n",
    "}\n",
    "dense_features = [\"age\"]\n",
    "\n",
    "vocabulary = {\n",
    "    \"user_id\": np.unique(users[\"user_id\"]),\n",
    "    \"item_id\": np.unique(items[\"item_id\"]),\n",
    "    \"gender\": np.unique(users[\"gender\"]),\n",
    "    \"occupation\": np.unique(users[\"occupation\"]),\n",
    "    \"genre\":np.array(genre_list)\n",
    "}"
   ]
  },
  {
   "cell_type": "code",
   "execution_count": 3,
   "id": "c669a363-0448-48cb-ae84-6b235413a463",
   "metadata": {},
   "outputs": [],
   "source": [
    "# 인기 장르를 대표 장르로 설정\n",
    "item_genre_counts = items.melt(\n",
    "    id_vars=\"item_id\",\n",
    "    value_vars=genre_list,\n",
    "    var_name=\"genre\",\n",
    "    value_name=\"is_genre\"\n",
    ")\n",
    "genre_popularity = item_genre_counts[item_genre_counts[\"is_genre\"]==1].groupby(\"genre\")[\"item_id\"].nunique().sort_values()\n",
    "items[\"genre\"] = \"unknown\"\n",
    "for genre, count in genre_popularity.items():\n",
    "    items.loc[items[genre] == 1, \"genre\"] = genre\n",
    "\n",
    "# 사용할 데이터만 남기기\n",
    "processed_users = users[[\"user_id\", \"gender\", \"occupation\", \"age\"]].copy()\n",
    "processed_items = items[[\"item_id\", \"genre\"]].copy()\n",
    "\n",
    "# sparse feature 전처리 하기\n",
    "for feature_name in vocabulary:\n",
    "    vocab = {v:i for i, v in enumerate(vocabulary[feature_name])}\n",
    "    if feature_name in processed_users:\n",
    "        processed_users[feature_name] = processed_users[feature_name].map(vocab)\n",
    "    else:\n",
    "        processed_items[feature_name] = processed_items[feature_name].map(vocab)\n",
    "\n",
    "    if feature_name in ratings:\n",
    "        ratings[feature_name] = ratings[feature_name].map(vocab)"
   ]
  },
  {
   "cell_type": "code",
   "execution_count": 4,
   "id": "2ec103ff-9ecb-4a44-b53f-512db7858fdc",
   "metadata": {},
   "outputs": [
    {
     "data": {
      "image/png": "[encoded data removed]",
      "text/plain": [
       "<Figure size 640x480 with 1 Axes>"
      ]
     },
     "metadata": {},
     "output_type": "display_data"
    }
   ],
   "source": [
    "# dense feature 전처리 -> 직접 하나하나 해야함!\n",
    "processed_users[\"age\"].plot.density()\n",
    "\n",
    "# 너무 크거나 작은 값은 내림/올림\n",
    "N_age = processed_users[\"age\"].agg([\"mean\", \"std\"])\n",
    "processed_users[\"age\"] = processed_users[\"age\"].clip(10, 70)\n",
    "processed_users[\"age\"] = (processed_users[\"age\"] - N_age[\"mean\"]) / N_age[\"std\"]"
   ]
  },
  {
   "cell_type": "code",
   "execution_count": 5,
   "id": "0e80f95f-ca79-4b20-ad48-254d5e1b6267",
   "metadata": {},
   "outputs": [
    {
     "name": "stderr",
     "output_type": "stream",
     "text": [
      "100%|███████████████████████████████████████| 943/943 [00:00<00:00, 1763.06it/s]\n"
     ]
    }
   ],
   "source": [
    "# Dataset Hyperparameter\n",
    "processed = ratings.copy()\n",
    "maximum_positive_sample = 100\n",
    "num_negative_sample = 5\n",
    "all_item_indices = np.arange(num_sparse_features[\"item_id\"])\n",
    "\n",
    "# Leave-one-out split\n",
    "# Downsampling\n",
    "# Random Negative Sampling\n",
    "train, test = [], []\n",
    "grouped = processed.sort_values(by=\"timestamp\").drop(\"timestamp\", axis=1).groupby(\"user_id\")\n",
    "for u, group in tqdm(grouped):\n",
    "    # Leave one\n",
    "    test_item_id = group.iloc[-1, 1]\n",
    "    test_negative = np.column_stack([\n",
    "        np.full(len(all_item_indices), u, dtype=int),\n",
    "        all_item_indices,\n",
    "        np.zeros(len(all_item_indices), dtype=int)\n",
    "    ])\n",
    "    test_negative[test_item_id, 2] = 1\n",
    "    test_negative = pd.DataFrame(test_negative, columns=[\"user_id\", \"item_id\", \"rating\"])\n",
    "    test.append(pd.concat([test_negative], axis=0))\n",
    "\n",
    "\n",
    "    # Downsampl\n",
    "    positive = group.iloc[:-1, ].copy()\n",
    "    positive[\"rating\"] = 1\n",
    "    num_positive_sample = len(positive)\n",
    "    num_positive_sample = min(maximum_positive_sample, num_positive_sample)\n",
    "    positive = positive.tail(num_positive_sample)    \n",
    "\n",
    "    # negative sampling\n",
    "    positive_item_indices = positive[\"item_id\"].unique()\n",
    "    negative_item_indices = np.setdiff1d(all_item_indices, positive_item_indices)\n",
    "    \n",
    "    size = num_positive_sample * num_negative_sample\n",
    "    replace_flag = size > len(negative_item_indices)\n",
    "    negative_item_indices = np.random.choice(\n",
    "        negative_item_indices,\n",
    "        size=size,\n",
    "        replace=replace_flag\n",
    "    )\n",
    "\n",
    "    negative = np.column_stack([\n",
    "        np.full(size, u, dtype=int),\n",
    "        negative_item_indices,\n",
    "        np.zeros(size, dtype=int)\n",
    "    ])\n",
    "    negative = pd.DataFrame(negative, columns=[\"user_id\", \"item_id\", \"rating\"])\n",
    "    \n",
    "    \n",
    "    train.append(pd.concat([positive, negative], axis=0))\n",
    "\n",
    "\n",
    "train = pd.concat(train, axis=0)\n",
    "test = pd.concat(test, axis=0)"
   ]
  },
  {
   "cell_type": "code",
   "execution_count": 6,
   "id": "b2de6a88-fc27-4e2a-9f3a-b9ee230c1b95",
   "metadata": {},
   "outputs": [
    {
     "data": {
      "text/plain": [
       "(user_id       False\n",
       " item_id       False\n",
       " rating        False\n",
       " gender        False\n",
       " occupation    False\n",
       " age           False\n",
       " genre         False\n",
       " dtype: bool,\n",
       " user_id       False\n",
       " item_id       False\n",
       " rating        False\n",
       " gender        False\n",
       " occupation    False\n",
       " age           False\n",
       " genre         False\n",
       " dtype: bool)"
      ]
     },
     "execution_count": 6,
     "metadata": {},
     "output_type": "execute_result"
    }
   ],
   "source": [
    "# 데이터 합치기\n",
    "processed_train = train.merge(processed_users, how=\"left\", on=\"user_id\")\n",
    "processed_train = processed_train.merge(processed_items, how=\"left\", on=\"item_id\")\n",
    "\n",
    "\n",
    "processed_test = test.merge(processed_users, how=\"left\", on=\"user_id\")\n",
    "processed_test = processed_test.merge(processed_items, how=\"left\", on=\"item_id\")\n",
    "\n",
    "processed_train.isnull().any(), processed_test.isnull().any()"
   ]
  },
  {
   "cell_type": "code",
   "execution_count": 7,
   "id": "6776195e-d6b6-4ccd-a686-a5c2b6b68828",
   "metadata": {},
   "outputs": [],
   "source": [
    "# 대조군(Popular), 대조군(Random)\n",
    "popular_recommendations = processed_train.loc[processed_train[\"rating\"]==1, \"item_id\"].value_counts().index.values\n",
    "random_recommendations = np.random.choice(vocabulary[\"item_id\"], size=len(all_item_indices), replace=False)"
   ]
  },
  {
   "cell_type": "code",
   "execution_count": 8,
   "id": "59092a38-76b9-401c-9394-1314b525cbae",
   "metadata": {},
   "outputs": [],
   "source": [
    "# save in processed\n",
    "with open(\"movielens/processed/num_sparse_features.json\", \"w\") as f:\n",
    "    json.dump(num_sparse_features, f)\n",
    "    \n",
    "with open(\"movielens/processed/dense_features.json\", \"w\") as f:\n",
    "    json.dump(dense_features, f)\n",
    "    \n",
    "with open(\"movielens/processed/experiment_group.json\", \"w\") as f:\n",
    "    json.dump({\n",
    "        \"random\":random_recommendations.tolist(), \n",
    "        \"popular\":popular_recommendations.tolist(),\n",
    "    }, f)\n",
    "    \n",
    "\n",
    "processed_train.to_parquet(\"movielens/processed/train.parquet\")\n",
    "processed_test.to_parquet(\"movielens/processed/test.parquet\")"
   ]
  },
  {
   "cell_type": "code",
   "execution_count": 9,
   "id": "fe9f71e0-9c4a-4827-8ad4-b72f0a49d026",
   "metadata": {},
   "outputs": [],
   "source": []
  },
  {
   "cell_type": "code",
   "execution_count": null,
   "id": "76f1a449-d603-45f3-b737-63bc51032ed4",
   "metadata": {},
   "outputs": [],
   "source": []
  },
  {
   "cell_type": "code",
   "execution_count": null,
   "id": "49b81bd7-f9b0-4d17-b47d-7f55649fc772",
   "metadata": {},
   "outputs": [],
   "source": []
  },
  {
   "cell_type": "code",
   "execution_count": null,
   "id": "d78c3e0c-0315-442c-b3e0-7462048ae9dd",
   "metadata": {},
   "outputs": [],
   "source": []
  },
  {
   "cell_type": "code",
   "execution_count": null,
   "id": "12893951-38ef-4b1a-ad8a-a9a7282657d8",
   "metadata": {},
   "outputs": [],
   "source": []
  },
  {
   "cell_type": "code",
   "execution_count": null,
   "id": "f60343a4-5a14-4554-bdae-3fffc8d872d7",
   "metadata": {},
   "outputs": [],
   "source": []
  }
 ],
 "metadata": {
  "kernelspec": {
   "display_name": "Python 3 (ipykernel)",
   "language": "python",
   "name": "python3"
  },
  "language_info": {
   "codemirror_mode": {
    "name": "ipython",
    "version": 3
   },
   "file_extension": ".py",
   "mimetype": "text/x-python",
   "name": "python",
   "nbconvert_exporter": "python",
   "pygments_lexer": "ipython3",
   "version": "3.9.6"
  }
 },
 "nbformat": 4,
 "nbformat_minor": 5
}
