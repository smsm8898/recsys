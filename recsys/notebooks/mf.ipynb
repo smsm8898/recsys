{
 "cells": [
  {
   "cell_type": "code",
   "execution_count": 1,
   "id": "a49f2e00-2159-4081-91df-a8417ee4019f",
   "metadata": {},
   "outputs": [],
   "source": [
    "import os\n",
    "import json\n",
    "import torch\n",
    "import pandas as pd\n",
    "import numpy as np\n",
    "import matplotlib.pyplot as plt\n",
    "\n",
    "from recsys.models import MF\n",
    "from recsys.data.movielens import MovielensDataset\n",
    "from recsys.utils.metrics import evaluate\n",
    "from recsys.utils import recommender, visualizer"
   ]
  },
  {
   "cell_type": "code",
   "execution_count": 2,
   "id": "05e75207-eaad-4df8-bd1d-5cbb9588863f",
   "metadata": {},
   "outputs": [],
   "source": [
    "with open(\"movielens/processed/num_sparse_features.json\", \"r\") as f:\n",
    "    num_sparse_features = json.load(f)\n",
    "num_sparse_features = {k:v for k,v in num_sparse_features.items() if k in [\"user_id\", \"item_id\"]}\n",
    "    \n",
    "with open(\"movielens/processed/experiment_group.json\", \"r\") as f:\n",
    "    experiment_group = json.load(f)\n",
    "experiment_group[MF.model_name] = []\n",
    "\n",
    "train = pd.read_parquet(\"movielens/processed/train.parquet\")\n",
    "test = pd.read_parquet(\"movielens/processed/test.parquet\")"
   ]
  },
  {
   "cell_type": "code",
   "execution_count": 3,
   "id": "d4b1fcf0-ddd3-45f2-aacf-4a8e5a6f5920",
   "metadata": {},
   "outputs": [
    {
     "name": "stdout",
     "output_type": "stream",
     "text": [
      "MatrixFactorization(\n",
      "  (sparse_arch): ModuleDict(\n",
      "    (user_id): Embedding(943, 16)\n",
      "    (item_id): Embedding(1682, 16)\n",
      "  )\n",
      ")\n"
     ]
    }
   ],
   "source": [
    "# Training Hyperparameter\n",
    "batch_size = 64\n",
    "latent_dim = 16\n",
    "lr = 1e-3\n",
    "epochs = 10\n",
    "\n",
    "# Define Dataset\n",
    "train_ds = MovielensDataset(train, list(num_sparse_features.keys()))\n",
    "train_loader = torch.utils.data.DataLoader(train_ds, batch_size=batch_size, shuffle=True)\n",
    "\n",
    "test_ds = MovielensDataset(test, list(num_sparse_features.keys()))\n",
    "test_loader = torch.utils.data.DataLoader(test_ds, batch_size=test[\"item_id\"].nunique(), shuffle=False)\n",
    "\n",
    "\n",
    "device = torch.device(\"cpu\")\n",
    "model = MF(num_sparse_features, latent_dim)\n",
    "model.to(device)\n",
    "optimizer = torch.optim.Adam(model.parameters(), lr=lr)\n",
    "print(model)"
   ]
  },
  {
   "cell_type": "code",
   "execution_count": null,
   "id": "0c886174-100e-4de1-b774-dbbf7a99303e",
   "metadata": {},
   "outputs": [
    {
     "name": "stderr",
     "output_type": "stream",
     "text": [
      "Epoch 1/10: 100%|█| 5747/5747 [00:08<00:00, 687.48it/s, auc=0.0000, logloss=0.54\n",
      "Epoch 2/10: 100%|█| 5747/5747 [00:08<00:00, 667.67it/s, auc=0.5001, logloss=0.85\n",
      "Epoch 3/10: 100%|█| 5747/5747 [00:08<00:00, 680.07it/s, auc=0.5201, logloss=0.71\n",
      "Epoch 4/10: 100%|█| 5747/5747 [00:08<00:00, 669.67it/s, auc=0.5740, logloss=0.41\n",
      "Epoch 5/10: 100%|█| 5747/5747 [00:08<00:00, 662.53it/s, auc=0.7116, logloss=0.28\n",
      "Epoch 6/10: 100%|█| 5747/5747 [00:09<00:00, 635.50it/s, auc=0.8163, logloss=0.26\n",
      "Epoch 7/10: 100%|█| 5747/5747 [00:09<00:00, 630.77it/s, auc=0.8521, logloss=0.34\n",
      "Epoch 8/10: 100%|█| 5747/5747 [00:09<00:00, 620.52it/s, auc=0.8746, logloss=0.29\n"
     ]
    }
   ],
   "source": [
    "history = recommender.train(model, train_loader, optimizer, device, epochs)\n",
    "visualizer.plot_history(history)"
   ]
  },
  {
   "cell_type": "code",
   "execution_count": null,
   "id": "c76d11ed-1e00-4e76-a6e9-1dc81b1d7b78",
   "metadata": {},
   "outputs": [],
   "source": [
    "user_recommendations = recommender.inference(model, device, test_loader)\n",
    "\n",
    "ks = [5, 10, 15, 20]\n",
    "_test = test[test[\"rating\"]==1]\n",
    "recommendations = {\n",
    "    \"popular\": np.array(experiment_group[\"popular\"]),\n",
    "    \"random\": np.array(experiment_group[\"random\"]),\n",
    "    model.model_name: user_recommendations\n",
    "}\n",
    "results = evaluate(_test, recommendations, ks)\n",
    "visualizer.plot_metrics(results)"
   ]
  },
  {
   "cell_type": "code",
   "execution_count": null,
   "id": "9c9c9dea-5635-405e-bd2b-cf8b9bc984f2",
   "metadata": {},
   "outputs": [],
   "source": []
  }
 ],
 "metadata": {
  "kernelspec": {
   "display_name": "Python 3 (ipykernel)",
   "language": "python",
   "name": "python3"
  },
  "language_info": {
   "codemirror_mode": {
    "name": "ipython",
    "version": 3
   },
   "file_extension": ".py",
   "mimetype": "text/x-python",
   "name": "python",
   "nbconvert_exporter": "python",
   "pygments_lexer": "ipython3",
   "version": "3.9.6"
  }
 },
 "nbformat": 4,
 "nbformat_minor": 5
}
