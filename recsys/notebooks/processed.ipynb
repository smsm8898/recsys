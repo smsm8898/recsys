{
 "cells": [
  {
   "cell_type": "code",
   "execution_count": 1,
   "id": "8bb3170c-d63b-4670-8871-2064f4bf26bf",
   "metadata": {},
   "outputs": [],
   "source": [
    "import numpy as np\n",
    "import pandas as pd\n",
    "import json\n",
    "from tqdm import tqdm\n",
    "\n",
    "np.random.seed = 42"
   ]
  },
  {
   "cell_type": "code",
   "execution_count": 2,
   "id": "d43aec41-4022-4a26-9c63-cc92ab64f11e",
   "metadata": {},
   "outputs": [],
   "source": [
    "ratings = pd.read_csv(\"movielens/raw/u.data\", sep=\"\\t\", names=[\"user_id\", \"item_id\", \"rating\", \"timestamp\"])\n",
    "users = pd.read_csv(\"movielens/raw/u.user\", sep=\"|\", encoding=\"latin-1\", names=[\"user_id\", \"age\", \"gender\", \"occupation\", \"zip\"])\n",
    "items = pd.read_csv(\"movielens/raw/u.item\", sep=\"|\", encoding=\"latin-1\", names=[\n",
    "        \"item_id\",\n",
    "        \"title\",\n",
    "        \"release_date\",\n",
    "        \"video_release_date\",\n",
    "        \"imdb_url\",\n",
    "        \"unknown\",\n",
    "        \"action\",\n",
    "        \"adventure\",\n",
    "        \"animation\",\n",
    "        \"children\",\n",
    "        \"comedy\",\n",
    "        \"crime\",\n",
    "        \"documentary\", \n",
    "        \"drama\", \n",
    "        \"fantasy\",\n",
    "        \"film-noir\",\n",
    "        \"horror\",\n",
    "        \"musical\",\n",
    "        \"mystery\",\n",
    "        \"romance\",\n",
    "        \"sci-Fi\",\n",
    "        \"thriller\",\n",
    "        \"war\",\n",
    "        \"western\",\n",
    "    ])\n",
    "num_sparse_features = {\n",
    "    \"user_id\": users[\"user_id\"].nunique(),\n",
    "    \"item_id\": items[\"item_id\"].nunique(),\n",
    "}\n",
    "vocabulary = {\n",
    "    \"user_id\": np.unique(users[\"user_id\"]),\n",
    "    \"item_id\": np.unique(items[\"item_id\"])\n",
    "}"
   ]
  },
  {
   "cell_type": "code",
   "execution_count": 3,
   "id": "2413546a-402b-4303-9cf6-de540e284f17",
   "metadata": {},
   "outputs": [
    {
     "name": "stdout",
     "output_type": "stream",
     "text": [
      "삭제된 알 수 없는 데이터: 0\n"
     ]
    }
   ],
   "source": [
    "# 전처리\n",
    "processed = ratings.copy()\n",
    "\n",
    "# user_id, item_id 정보가 있는 데이터만 남기기\n",
    "processed = processed[(\n",
    "    processed[\"user_id\"].isin(vocabulary[\"user_id\"])\n",
    "    & processed[\"item_id\"].isin(vocabulary[\"item_id\"])\n",
    ")]\n",
    "unknown = len(ratings) - len(processed)\n",
    "print(\"삭제된 알 수 없는 데이터:\", unknown)\n",
    "\n",
    "\n",
    "# user_id, item_id를 index 매핑\n",
    "processed[\"user_id\"] = processed[\"user_id\"].map({\n",
    "    uid : i \n",
    "    for i, uid in enumerate(vocabulary[\"user_id\"])\n",
    "})\n",
    "\n",
    "processed[\"item_id\"] = processed[\"item_id\"].map({\n",
    "    iid : i \n",
    "    for i, iid in enumerate(vocabulary[\"item_id\"])\n",
    "})"
   ]
  },
  {
   "cell_type": "code",
   "execution_count": 4,
   "id": "a703aff0-1f77-4cbf-852a-62accdd48fc1",
   "metadata": {},
   "outputs": [
    {
     "name": "stderr",
     "output_type": "stream",
     "text": [
      "100%|███████████████████████████████████████| 943/943 [00:00<00:00, 2467.13it/s]\n"
     ]
    }
   ],
   "source": [
    "# Dataset Hyperparameter\n",
    "maximum_positive_sample = 100\n",
    "num_negative_sample = 5\n",
    "all_item_indices = np.arange(num_sparse_features[\"item_id\"])\n",
    "\n",
    "# Leave-one-out split\n",
    "# Downsampling\n",
    "# Random Negative Sampling\n",
    "train, test = [], []\n",
    "for u, group in tqdm(processed.sort_values(by=\"timestamp\").groupby(\"user_id\")):\n",
    "    # Leave one\n",
    "    last = group.iloc[-1, :2].values\n",
    "    test.append([last[0], last[1], 1])\n",
    "    \n",
    "    \n",
    "    # Downsampling\n",
    "    group = group.iloc[:-1]\n",
    "    num_positive_sample = len(group)\n",
    "    num_positive_sample = min(maximum_positive_sample, num_positive_sample)\n",
    "    group = group.tail(num_positive_sample)\n",
    "\n",
    "    # positive samples\n",
    "    positive = group[[\"user_id\", \"item_id\"]].values\n",
    "    positive = np.column_stack([positive, np.ones(len(positive), dtype=int)])\n",
    "\n",
    "    # negative sampling\n",
    "    positive_item_indices = group[\"item_id\"].unique()\n",
    "    negative_item_indices = np.setdiff1d(all_item_indices, positive_item_indices)\n",
    "\n",
    "    size = num_positive_sample*num_negative_sample\n",
    "    replace_flag = size > len(negative_item_indices)\n",
    "    negative_item_indices = np.random.choice(\n",
    "        negative_item_indices,\n",
    "        size=size,\n",
    "        replace=replace_flag\n",
    "    )\n",
    "\n",
    "    negative = np.column_stack([\n",
    "        np.full(size, u, dtype=int),\n",
    "        negative_item_indices,\n",
    "        np.zeros(size, dtype=int)\n",
    "    ])\n",
    "    train.append(positive)\n",
    "    train.append(negative)\n",
    "\n",
    "train = np.vstack(train)\n",
    "test = np.vstack(test)"
   ]
  },
  {
   "cell_type": "code",
   "execution_count": 5,
   "id": "9a50422d-7435-4f76-a003-f3a07c52ad60",
   "metadata": {},
   "outputs": [],
   "source": [
    "# 대조군(Popular)\n",
    "test_data = processed.sort_values(by=\"timestamp\").groupby(\"user_id\").tail(1)\n",
    "train_data = processed.drop(test_data.index)    \n",
    "popular_recommendations = train_data[\"item_id\"].value_counts().index.values\n",
    "\n",
    "# 대조군(Random)\n",
    "random_recommendations = np.random.choice(vocabulary[\"item_id\"], size=len(all_item_indices), replace=False)"
   ]
  },
  {
   "cell_type": "code",
   "execution_count": 6,
   "id": "4a288570-e1fe-4076-801e-e8113ec1e1b6",
   "metadata": {},
   "outputs": [],
   "source": [
    "# save in processed\n",
    "with open(\"movielens/processed/num_sparse_features.json\", \"w\") as f:\n",
    "    json.dump(num_sparse_features, f)\n",
    "\n",
    "with open(\"movielens/processed/experiment_group.json\", \"w\") as f:\n",
    "    json.dump({\n",
    "        \"random\":random_recommendations.tolist(), \n",
    "        \"popular\":popular_recommendations.tolist(),\n",
    "    }, f)\n",
    "    \n",
    "np.save(\"movielens/processed/train.npy\", train)\n",
    "np.save(\"movielens/processed/test.npy\", test)"
   ]
  },
  {
   "cell_type": "code",
   "execution_count": null,
   "id": "f3f81640-1e8c-4d07-9cf9-43adcb00720b",
   "metadata": {},
   "outputs": [],
   "source": []
  },
  {
   "cell_type": "code",
   "execution_count": null,
   "id": "6991db56-969b-4eda-aa4c-1e00c2aae07c",
   "metadata": {},
   "outputs": [],
   "source": []
  },
  {
   "cell_type": "code",
   "execution_count": null,
   "id": "8a8c5004-b90c-4bf5-8b3e-160fc10ea2e8",
   "metadata": {},
   "outputs": [],
   "source": []
  },
  {
   "cell_type": "code",
   "execution_count": null,
   "id": "7fd42f5e-771f-4d57-b839-10c73610b606",
   "metadata": {},
   "outputs": [],
   "source": []
  }
 ],
 "metadata": {
  "kernelspec": {
   "display_name": "Python 3 (ipykernel)",
   "language": "python",
   "name": "python3"
  },
  "language_info": {
   "codemirror_mode": {
    "name": "ipython",
    "version": 3
   },
   "file_extension": ".py",
   "mimetype": "text/x-python",
   "name": "python",
   "nbconvert_exporter": "python",
   "pygments_lexer": "ipython3",
   "version": "3.9.6"
  }
 },
 "nbformat": 4,
 "nbformat_minor": 5
}
